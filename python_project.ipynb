{
 "cells": [
  {
   "cell_type": "markdown",
   "id": "f8fab5f6",
   "metadata": {},
   "source": [
    "Introduction\n",
    "In the world of football, strikers play a pivotal role in deciding the fate of matches and championships. Identifying the best strikers among a pool of talent involves a comprehensive analysis of various factors ranging from performance metrics to personal attributes. In this project, titled \"Segmenting and Classifying the Best Strikers,\" we delve into a dataset containing information on 500 strikers, aiming to uncover patterns, insights, and classifications that distinguish top-performing strikers from the rest.\n",
    "\n",
    "Project Description\n",
    "The project involves utilizing data analytics techniques to explore and understand the characteristics and performance metrics of strikers. By employing descriptive statistics, data visualization, feature engineering, and machine learning algorithms, we aim to identify the key attributes that contribute to a striker's success on the field and classify them into different categories based on their performance.\n",
    "\n",
    "Purpose\n",
    "The primary purpose of this project is to provide a systematic framework for analyzing and categorizing strikers based on their performance metrics and personal attributes. By doing so, coaches, scouts, and football analysts can gain valuable insights into the characteristics of top-performing strikers and make informed decisions in team selection, recruitment, and strategic planning.\n",
    "\n",
    "Dataset Description\n",
    "The dataset comprises various variables related to 500 strikers, encompassing both demographic information and performance metrics. Key variables include nationality, footedness, marital status, goals scored, assists, shot accuracy, dribbling success, and many more, providing a comprehensive overview of each striker's profile and on-field performance.\n",
    "\n",
    "Striker ID: Unique identifiers assigned to each striker.\n",
    "\n",
    "Nationality: The country of origin for each striker.\n",
    "\n",
    "Footedness: Indicates whether the striker is right or left-footed.\n",
    "\n",
    "Marital Status: Indicates whether the striker is married (yes) or unmarried (no).\n",
    "\n",
    "Goals Scored: The total number of goals scored by the striker, a fundamental performance metric.\n",
    "\n",
    "Assists: The number of assists provided by the striker, indicating their ability to create goal-scoring opportunities for teammates.\n",
    "\n",
    "Shots on Target: The number of shots taken by the striker that hit the target, reflecting their ability to create scoring opportunities and test the goalkeeper.\n",
    "\n",
    "Shot Accuracy: The percentage of shots on target out of total shots taken, showing the striker's precision and effectiveness.\n",
    "\n",
    "Conversion Rate: The percentage of shots that result in goals, revealing the striker's efficiency in front of goal.\n",
    "\n",
    "Dribbling Success: A metric indicating the striker's ability to bypass defenders and create goal-scoring opportunities through individual skill.\n",
    "\n",
    "Movement off the Ball: Reflects how actively the striker moves to find space and create opportunities for themselves and teammates.\n",
    "\n",
    "Hold-up Play: Measures the striker's ability to retain possession and bring teammates into play with passes or layoffs.\n",
    "\n",
    "Aerial Duels Won: The number of aerial duels won by the striker, important for strikers strong in the air as it can create scoring chances.\n",
    "\n",
    "Defensive Contribution: Reflects the striker's defensive efforts such as tracking back, pressing opponents, and making interceptions.\n",
    "\n",
    "Big Game Performance: Indicates the striker's performance in important matches, which can elevate their reputation.\n",
    "\n",
    "Consistency: Reflects how regularly the striker performs at a high level over the course of a season or multiple seasons.\n",
    "\n",
    "Versatility: Measures the striker's ability to adapt to different tactical systems and roles within the team.\n",
    "\n",
    "Penalty Success Rate: The efficiency of the striker from the penalty spot, crucial in tight matches.\n",
    "\n",
    "Impact on Team Performance: Reflects how the team's results and overall attacking play are influenced by the striker's presence.\n",
    "\n",
    "Off-field Conduct: Measures the striker's professionalism, leadership, and behavior, which can impact their overall performance and value to the team.\n",
    "\n",
    "Required Tools\n",
    "Python programming language\n",
    "\n",
    "Jupyter Notebook\n",
    "\n",
    "Your Job - Questions to solve\n",
    "Data Cleaning:\n",
    "\n",
    "Download the attached dataset and load it into Jupyter notebook.\n",
    "\n",
    "Load all the relevant and necessary packages for the required tasks.\n",
    "\n",
    "Check for missing values within any column and use SimpleImputer to impute the missing values. Use strategy 'median' for numeric and 'most frequent' for nominal columns.\n",
    "\n",
    "Check for the correct data types and assign integer data types for specific variables: 'Goals Scored', 'Assists', 'Shots on Target', 'Movement off the Ball', 'Hold-up Play', 'Aerial Duels Won', 'Defensive Contribution', 'Big Game Performance', 'Impact on Team Performance', 'Off-field Conduct'.\n",
    "\n",
    "Descriptive Analysis:\n",
    "\n",
    "Perform descriptive analysis on the dataset. Round the output values by 2 decimal points.\n",
    "\n",
    "Data Visualization:\n",
    "\n",
    "Perform percentage analysis on the variable Footedness and create a pie chart on the output using matplotlib.\n",
    "\n",
    "Visualize the distribution of players' footedness across different nationalities in a countplot of seaborn.\n",
    "\n",
    "Statistical Analysis:\n",
    "\n",
    "Determine which nationality strikers have the highest average number of goals scored.\n",
    "\n",
    "Calculate the average conversion rate for players based on their footedness.\n",
    "\n",
    "Find whether there is any significant difference in consistency rates among strikers from various nationalities. Before doing the appropriate test, must check for the assumptions.\n",
    "\n",
    "Check if there is any significant correlation between strikers' Hold-up play and consistency rate. Must check for the assumptions.\n",
    "\n",
    "Check if strikers' hold-up play significantly influences their consistency rate.\n",
    "\n",
    "Feature Engineering:\n",
    "\n",
    "Create a new feature - Total contribution score by summing up specific columns: 'Goals Scored', 'Assists', 'Shots on Target', 'Dribbling Success', 'Aerial Duels Won', 'Defensive Contribution', 'Big Game Performance', 'Consistency'.\n",
    "\n",
    "Encode the Footedness and marital status by LabelEncoder.\n",
    "\n",
    "Create dummy variables for Nationality and add them to the data.\n",
    "\n",
    "Clustering Analysis:\n",
    "\n",
    "Perform KMeans clustering:\n",
    "\n",
    "Select features by dropping the Striker_ID from the updated data.\n",
    "\n",
    "Calculate the Within-Cluster-Sum-of-Squares (WCSS).\n",
    "\n",
    "Visualize the elbow chart to select the optimal number of clusters (The breakpoint of elbow chart must show 2).\n",
    "\n",
    "Build the KMeans cluster with the optimal number of clusters and add the labels into the data.\n",
    "\n",
    "Calculate the average total contribution score by the value of clusters.\n",
    "\n",
    "Assign the tag 'Best strikers' for 0 and 'Regular strikers' for 1 and add a new column 'Strikers types' into the data. Drop the Clusters variable.\n",
    "\n",
    "Use feature mapping to map the new feature Strikers types: 'Best strikers' for 1 and 'Regular strikers' for 0.\n",
    "\n",
    "Machine Learning Model:\n",
    "\n",
    "Select the features into x and the target column Strikers types into y. Must delete unnecessary columns (i.e., 'Strikers_ID') while selecting the features.\n",
    "\n",
    "Perform feature scaling with StandardScaler and split the data into train and test sets where the test data size will be 20%.\n",
    "\n",
    "Build a logistic regression machine learning model to predict strikers type.\n",
    "\n",
    "Make predictions and evaluate by calculating the accuracy percentage.\n",
    "\n",
    "Create the confusion matrix and visualize it.\n",
    "\n",
    "Finally, answer the question asked in this assignment and you are done!\n",
    "\n",
    "\n",
    "\n",
    "Conclusion\n",
    "Through a comprehensive analysis of the dataset, we've gained valuable insights into the characteristics and performance metrics of strikers. By segmenting and classifying the strikers based on their attributes and performance, we've provided a framework for identifying top-performing strikers and predicting their performance type. This project serves as a valuable resource for football professionals and enthusiasts alike, aiding in talent identification, team selection, and strategic planning.\n",
    "\n",
    "Questions for this assignment\n",
    "What is the maximum goal scored by an individual striker?\n",
    "\n",
    "What is the portion of Right-footed strikers within the dataset?\n",
    "\n",
    "Which nationality strikers have the highest average number of goals scored?\n",
    "\n",
    "What is the average conversion rate for left-footed player?\n",
    "\n",
    "How many left footed players are from France?\n",
    "\n",
    "What is the correlation co-efficient between hold up play and consistency score?\n",
    "\n",
    "What is the p-value for the shapiro wilk test of consistency score? Is it normally distributed?\n",
    "\n",
    "What is the p-value for the levene's test of ANOVA analysis? Is the heteroscedasticity assumed?\n",
    "\n",
    "Is there any significant correlation between strikers' Hold-up play and consistency rate?\n",
    "\n",
    "Describe the beta value of Hold-up Play you have found in your regression analysis.\n",
    "\n",
    "What is the average Total contribution score you get for the best strikers?\n",
    "\n",
    "What is the accuracy score of your LGR model? How many regular strikers your model predicted correctly? How many best strikers your model predicted incorrectly?"
   ]
  },
  {
   "cell_type": "code",
   "execution_count": 2,
   "id": "b9315425",
   "metadata": {},
   "outputs": [],
   "source": [
    "import pandas as pd\n",
    "import numpy as np\n",
    "import matplotlib.pyplot as plt\n",
    "import seaborn as sns"
   ]
  },
  {
   "cell_type": "code",
   "execution_count": 5,
   "id": "12bc195b",
   "metadata": {},
   "outputs": [],
   "source": [
    "# Download the attached dataset and load it into Jupyter notebook.Load all the relevant and necessary packages for the required tasks.Check for missing values within any column and use SimpleImputer to impute the missing values. Use strategy 'median' for numeric and 'most frequent' for nominal columns."
   ]
  },
  {
   "cell_type": "code",
   "execution_count": 4,
   "id": "1e2e5a79",
   "metadata": {},
   "outputs": [],
   "source": [
    "data=pd.read_excel('Strikers_performance.xlsx')"
   ]
  },
  {
   "cell_type": "code",
   "execution_count": 6,
   "id": "828971a5",
   "metadata": {},
   "outputs": [
    {
     "name": "stdout",
     "output_type": "stream",
     "text": [
      "MissingData: Striker_ID                    0\n",
      "Nationality                   0\n",
      "Footedness                    0\n",
      "Marital Status                0\n",
      "Goals Scored                  0\n",
      "Assists                       0\n",
      "Shots on Target               0\n",
      "Shot Accuracy                 0\n",
      "Conversion Rate               0\n",
      "Dribbling Success             0\n",
      "Movement off the Ball         6\n",
      "Hold-up Play                  0\n",
      "Aerial Duels Won              0\n",
      "Defensive Contribution        0\n",
      "Big Game Performance          2\n",
      "Consistency                   0\n",
      "Penalty Success Rate          5\n",
      "Impact on Team Performance    0\n",
      "Off-field Conduct             0\n",
      "dtype: int64\n"
     ]
    }
   ],
   "source": [
    "missing_data=data.isnull().sum()\n",
    "print(\"MissingData:\",missing_data)"
   ]
  },
  {
   "cell_type": "code",
   "execution_count": 12,
   "id": "a7b2c8bf",
   "metadata": {},
   "outputs": [],
   "source": [
    "from sklearn.impute import SimpleImputer\n",
    "imputer=SimpleImputer(strategy='median')\n",
    "imputer.fit(data[['Movement off the Ball','Big Game Performance','Penalty Success Rate']])\n",
    "data[['Movement off the Ball','Big Game Performance','Penalty Success Rate']]=imputer.transform(data[['Movement off the Ball','Big Game Performance','Penalty Success Rate']])"
   ]
  },
  {
   "cell_type": "code",
   "execution_count": 13,
   "id": "4c956b7f",
   "metadata": {},
   "outputs": [
    {
     "name": "stdout",
     "output_type": "stream",
     "text": [
      "MissingData: Striker_ID                    0\n",
      "Nationality                   0\n",
      "Footedness                    0\n",
      "Marital Status                0\n",
      "Goals Scored                  0\n",
      "Assists                       0\n",
      "Shots on Target               0\n",
      "Shot Accuracy                 0\n",
      "Conversion Rate               0\n",
      "Dribbling Success             0\n",
      "Movement off the Ball         0\n",
      "Hold-up Play                  0\n",
      "Aerial Duels Won              0\n",
      "Defensive Contribution        0\n",
      "Big Game Performance          0\n",
      "Consistency                   0\n",
      "Penalty Success Rate          0\n",
      "Impact on Team Performance    0\n",
      "Off-field Conduct             0\n",
      "dtype: int64\n"
     ]
    }
   ],
   "source": [
    "missing_data=data.isnull().sum()\n",
    "print(\"MissingData:\",missing_data)"
   ]
  },
  {
   "cell_type": "code",
   "execution_count": 14,
   "id": "b1ea1fff",
   "metadata": {},
   "outputs": [],
   "source": [
    "'Goals Scored', 'Assists', 'Shots on Target', 'Movement off the Ball', 'Hold-up Play', 'Aerial Duels Won', 'Defensive Contribution', 'Big Game Performance', 'Impact on Team Performance', 'Off-field Conduct'#Check for the correct data types and assign integer data types for specific variables: ."
   ]
  },
  {
   "cell_type": "code",
   "execution_count": 15,
   "id": "7cf7ec76",
   "metadata": {},
   "outputs": [
    {
     "data": {
      "text/plain": [
       "Striker_ID                      int64\n",
       "Nationality                    object\n",
       "Footedness                     object\n",
       "Marital Status                 object\n",
       "Goals Scored                  float64\n",
       "Assists                       float64\n",
       "Shots on Target               float64\n",
       "Shot Accuracy                 float64\n",
       "Conversion Rate               float64\n",
       "Dribbling Success             float64\n",
       "Movement off the Ball         float64\n",
       "Hold-up Play                  float64\n",
       "Aerial Duels Won              float64\n",
       "Defensive Contribution        float64\n",
       "Big Game Performance          float64\n",
       "Consistency                   float64\n",
       "Penalty Success Rate          float64\n",
       "Impact on Team Performance    float64\n",
       "Off-field Conduct             float64\n",
       "dtype: object"
      ]
     },
     "execution_count": 15,
     "metadata": {},
     "output_type": "execute_result"
    }
   ],
   "source": [
    "data.dtypes"
   ]
  },
  {
   "cell_type": "code",
   "execution_count": 23,
   "id": "9ded345f",
   "metadata": {},
   "outputs": [],
   "source": [
    "data['Goals Scored']=data['Goals Scored'].astype(int)\n",
    "data['Assists']=data['Assists'].astype(int)\n",
    "data['Shots on Target']=data['Shots on Target'].astype(int)\n",
    "data['Movement off the Ball']=data['Movement off the Ball'].astype(int)\n",
    "data['Hold-up Play']=data['Hold-up Play'].astype(int)\n",
    "data['Aerial Duels Won']=data['Aerial Duels Won'].astype(int)\n",
    "data['Defensive Contribution']=data['Defensive Contribution'].astype(int)\n",
    "data['Big Game Performance']=data['Big Game Performance'].astype(int)\n",
    "data['Impact on Team Performance']=data['Impact on Team Performance'].astype(int)\n",
    "data['Off-field Conduct']=data['Off-field Conduct'].astype(int)"
   ]
  },
  {
   "cell_type": "code",
   "execution_count": 43,
   "id": "c1fa47b9",
   "metadata": {},
   "outputs": [
    {
     "data": {
      "text/plain": [
       "Striker_ID                      int64\n",
       "Nationality                    object\n",
       "Footedness                     object\n",
       "Marital Status                 object\n",
       "Goals Scored                    int32\n",
       "Assists                         int32\n",
       "Shots on Target                 int32\n",
       "Shot Accuracy                 float64\n",
       "Conversion Rate               float64\n",
       "Dribbling Success             float64\n",
       "Movement off the Ball           int32\n",
       "Hold-up Play                    int32\n",
       "Aerial Duels Won                int32\n",
       "Defensive Contribution          int32\n",
       "Big Game Performance            int32\n",
       "Consistency                   float64\n",
       "Penalty Success Rate          float64\n",
       "Impact on Team Performance      int32\n",
       "Off-field Conduct               int32\n",
       "dtype: object"
      ]
     },
     "execution_count": 43,
     "metadata": {},
     "output_type": "execute_result"
    }
   ],
   "source": [
    "data.dtypes"
   ]
  },
  {
   "cell_type": "code",
   "execution_count": 26,
   "id": "6612817d",
   "metadata": {},
   "outputs": [],
   "source": [
    "#Descriptive Analysis:Perform descriptive analysis on the dataset. Round the output values by 2 decimal points."
   ]
  },
  {
   "cell_type": "code",
   "execution_count": 27,
   "id": "cc13ed32",
   "metadata": {},
   "outputs": [
    {
     "data": {
      "text/html": [
       "<div>\n",
       "<style scoped>\n",
       "    .dataframe tbody tr th:only-of-type {\n",
       "        vertical-align: middle;\n",
       "    }\n",
       "\n",
       "    .dataframe tbody tr th {\n",
       "        vertical-align: top;\n",
       "    }\n",
       "\n",
       "    .dataframe thead th {\n",
       "        text-align: right;\n",
       "    }\n",
       "</style>\n",
       "<table border=\"1\" class=\"dataframe\">\n",
       "  <thead>\n",
       "    <tr style=\"text-align: right;\">\n",
       "      <th></th>\n",
       "      <th>Striker_ID</th>\n",
       "      <th>Goals Scored</th>\n",
       "      <th>Assists</th>\n",
       "      <th>Shots on Target</th>\n",
       "      <th>Shot Accuracy</th>\n",
       "      <th>Conversion Rate</th>\n",
       "      <th>Dribbling Success</th>\n",
       "      <th>Movement off the Ball</th>\n",
       "      <th>Hold-up Play</th>\n",
       "      <th>Aerial Duels Won</th>\n",
       "      <th>Defensive Contribution</th>\n",
       "      <th>Big Game Performance</th>\n",
       "      <th>Consistency</th>\n",
       "      <th>Penalty Success Rate</th>\n",
       "      <th>Impact on Team Performance</th>\n",
       "      <th>Off-field Conduct</th>\n",
       "    </tr>\n",
       "  </thead>\n",
       "  <tbody>\n",
       "    <tr>\n",
       "      <th>count</th>\n",
       "      <td>500.00</td>\n",
       "      <td>500.00</td>\n",
       "      <td>500.00</td>\n",
       "      <td>500.00</td>\n",
       "      <td>500.00</td>\n",
       "      <td>500.00</td>\n",
       "      <td>500.00</td>\n",
       "      <td>500.00</td>\n",
       "      <td>500.00</td>\n",
       "      <td>500.00</td>\n",
       "      <td>500.00</td>\n",
       "      <td>500.00</td>\n",
       "      <td>500.00</td>\n",
       "      <td>500.00</td>\n",
       "      <td>500.00</td>\n",
       "      <td>500.00</td>\n",
       "    </tr>\n",
       "    <tr>\n",
       "      <th>mean</th>\n",
       "      <td>250.50</td>\n",
       "      <td>14.52</td>\n",
       "      <td>7.60</td>\n",
       "      <td>25.26</td>\n",
       "      <td>0.60</td>\n",
       "      <td>0.20</td>\n",
       "      <td>0.70</td>\n",
       "      <td>69.28</td>\n",
       "      <td>59.33</td>\n",
       "      <td>19.04</td>\n",
       "      <td>39.47</td>\n",
       "      <td>6.43</td>\n",
       "      <td>0.74</td>\n",
       "      <td>0.80</td>\n",
       "      <td>6.52</td>\n",
       "      <td>7.57</td>\n",
       "    </tr>\n",
       "    <tr>\n",
       "      <th>std</th>\n",
       "      <td>144.48</td>\n",
       "      <td>4.91</td>\n",
       "      <td>2.96</td>\n",
       "      <td>7.08</td>\n",
       "      <td>0.10</td>\n",
       "      <td>0.05</td>\n",
       "      <td>0.10</td>\n",
       "      <td>10.33</td>\n",
       "      <td>10.15</td>\n",
       "      <td>4.95</td>\n",
       "      <td>9.90</td>\n",
       "      <td>1.98</td>\n",
       "      <td>0.10</td>\n",
       "      <td>0.10</td>\n",
       "      <td>2.11</td>\n",
       "      <td>2.09</td>\n",
       "    </tr>\n",
       "    <tr>\n",
       "      <th>min</th>\n",
       "      <td>1.00</td>\n",
       "      <td>0.00</td>\n",
       "      <td>0.00</td>\n",
       "      <td>4.00</td>\n",
       "      <td>0.31</td>\n",
       "      <td>0.05</td>\n",
       "      <td>0.40</td>\n",
       "      <td>40.00</td>\n",
       "      <td>35.00</td>\n",
       "      <td>4.00</td>\n",
       "      <td>8.00</td>\n",
       "      <td>2.00</td>\n",
       "      <td>0.46</td>\n",
       "      <td>0.53</td>\n",
       "      <td>0.00</td>\n",
       "      <td>0.00</td>\n",
       "    </tr>\n",
       "    <tr>\n",
       "      <th>25%</th>\n",
       "      <td>125.75</td>\n",
       "      <td>11.00</td>\n",
       "      <td>6.00</td>\n",
       "      <td>20.00</td>\n",
       "      <td>0.54</td>\n",
       "      <td>0.17</td>\n",
       "      <td>0.64</td>\n",
       "      <td>62.00</td>\n",
       "      <td>52.00</td>\n",
       "      <td>16.00</td>\n",
       "      <td>33.00</td>\n",
       "      <td>5.00</td>\n",
       "      <td>0.68</td>\n",
       "      <td>0.72</td>\n",
       "      <td>5.00</td>\n",
       "      <td>6.00</td>\n",
       "    </tr>\n",
       "    <tr>\n",
       "      <th>50%</th>\n",
       "      <td>250.50</td>\n",
       "      <td>15.00</td>\n",
       "      <td>8.00</td>\n",
       "      <td>25.00</td>\n",
       "      <td>0.60</td>\n",
       "      <td>0.20</td>\n",
       "      <td>0.70</td>\n",
       "      <td>69.00</td>\n",
       "      <td>60.00</td>\n",
       "      <td>19.00</td>\n",
       "      <td>39.50</td>\n",
       "      <td>6.00</td>\n",
       "      <td>0.75</td>\n",
       "      <td>0.80</td>\n",
       "      <td>6.50</td>\n",
       "      <td>8.00</td>\n",
       "    </tr>\n",
       "    <tr>\n",
       "      <th>75%</th>\n",
       "      <td>375.25</td>\n",
       "      <td>18.00</td>\n",
       "      <td>9.00</td>\n",
       "      <td>30.00</td>\n",
       "      <td>0.67</td>\n",
       "      <td>0.23</td>\n",
       "      <td>0.76</td>\n",
       "      <td>76.00</td>\n",
       "      <td>66.00</td>\n",
       "      <td>22.00</td>\n",
       "      <td>46.00</td>\n",
       "      <td>8.00</td>\n",
       "      <td>0.81</td>\n",
       "      <td>0.87</td>\n",
       "      <td>8.00</td>\n",
       "      <td>9.00</td>\n",
       "    </tr>\n",
       "    <tr>\n",
       "      <th>max</th>\n",
       "      <td>500.00</td>\n",
       "      <td>34.00</td>\n",
       "      <td>15.00</td>\n",
       "      <td>43.00</td>\n",
       "      <td>0.92</td>\n",
       "      <td>0.36</td>\n",
       "      <td>1.00</td>\n",
       "      <td>98.00</td>\n",
       "      <td>92.00</td>\n",
       "      <td>34.00</td>\n",
       "      <td>71.00</td>\n",
       "      <td>12.00</td>\n",
       "      <td>1.00</td>\n",
       "      <td>1.00</td>\n",
       "      <td>13.00</td>\n",
       "      <td>13.00</td>\n",
       "    </tr>\n",
       "  </tbody>\n",
       "</table>\n",
       "</div>"
      ],
      "text/plain": [
       "       Striker_ID  Goals Scored  Assists  Shots on Target  Shot Accuracy  \\\n",
       "count      500.00        500.00   500.00           500.00         500.00   \n",
       "mean       250.50         14.52     7.60            25.26           0.60   \n",
       "std        144.48          4.91     2.96             7.08           0.10   \n",
       "min          1.00          0.00     0.00             4.00           0.31   \n",
       "25%        125.75         11.00     6.00            20.00           0.54   \n",
       "50%        250.50         15.00     8.00            25.00           0.60   \n",
       "75%        375.25         18.00     9.00            30.00           0.67   \n",
       "max        500.00         34.00    15.00            43.00           0.92   \n",
       "\n",
       "       Conversion Rate  Dribbling Success  Movement off the Ball  \\\n",
       "count           500.00             500.00                 500.00   \n",
       "mean              0.20               0.70                  69.28   \n",
       "std               0.05               0.10                  10.33   \n",
       "min               0.05               0.40                  40.00   \n",
       "25%               0.17               0.64                  62.00   \n",
       "50%               0.20               0.70                  69.00   \n",
       "75%               0.23               0.76                  76.00   \n",
       "max               0.36               1.00                  98.00   \n",
       "\n",
       "       Hold-up Play  Aerial Duels Won  Defensive Contribution  \\\n",
       "count        500.00            500.00                  500.00   \n",
       "mean          59.33             19.04                   39.47   \n",
       "std           10.15              4.95                    9.90   \n",
       "min           35.00              4.00                    8.00   \n",
       "25%           52.00             16.00                   33.00   \n",
       "50%           60.00             19.00                   39.50   \n",
       "75%           66.00             22.00                   46.00   \n",
       "max           92.00             34.00                   71.00   \n",
       "\n",
       "       Big Game Performance  Consistency  Penalty Success Rate  \\\n",
       "count                500.00       500.00                500.00   \n",
       "mean                   6.43         0.74                  0.80   \n",
       "std                    1.98         0.10                  0.10   \n",
       "min                    2.00         0.46                  0.53   \n",
       "25%                    5.00         0.68                  0.72   \n",
       "50%                    6.00         0.75                  0.80   \n",
       "75%                    8.00         0.81                  0.87   \n",
       "max                   12.00         1.00                  1.00   \n",
       "\n",
       "       Impact on Team Performance  Off-field Conduct  \n",
       "count                      500.00             500.00  \n",
       "mean                         6.52               7.57  \n",
       "std                          2.11               2.09  \n",
       "min                          0.00               0.00  \n",
       "25%                          5.00               6.00  \n",
       "50%                          6.50               8.00  \n",
       "75%                          8.00               9.00  \n",
       "max                         13.00              13.00  "
      ]
     },
     "execution_count": 27,
     "metadata": {},
     "output_type": "execute_result"
    }
   ],
   "source": [
    "round(data.describe(),2)"
   ]
  },
  {
   "cell_type": "code",
   "execution_count": 28,
   "id": "200f7267",
   "metadata": {},
   "outputs": [],
   "source": [
    "#Data Visualization:Perform percentage analysis on the variable Footedness and create a pie chart on the output using matplotlib.Visualize the distribution of players' footedness across different nationalities in a countplot of seaborn."
   ]
  },
  {
   "cell_type": "code",
   "execution_count": 33,
   "id": "dfe21089",
   "metadata": {},
   "outputs": [
    {
     "data": {
      "text/plain": [
       "Right-footed    53.4\n",
       "Left-footed     46.6\n",
       "Name: Footedness, dtype: float64"
      ]
     },
     "execution_count": 33,
     "metadata": {},
     "output_type": "execute_result"
    }
   ],
   "source": [
    "frequency_analysis=data['Footedness'].value_counts()\n",
    "percentage_analysis=frequency_analysis/len(data['Footedness'])*100\n",
    "percentage_analysis"
   ]
  },
  {
   "cell_type": "code",
   "execution_count": 37,
   "id": "d48c1084",
   "metadata": {},
   "outputs": [
    {
     "data": {
      "image/png": "[encoded data removed]",
      "text/plain": [
       "<Figure size 1000x800 with 1 Axes>"
      ]
     },
     "metadata": {},
     "output_type": "display_data"
    }
   ],
   "source": [
    "plt.figure(figsize=(10,8))\n",
    "percentage_analysis.plot(kind='pie',autopct='%1.2f%%')\n",
    "plt.title('Footedness')\n",
    "plt.show()"
   ]
  },
  {
   "cell_type": "code",
   "execution_count": 39,
   "id": "c3940240",
   "metadata": {},
   "outputs": [
    {
     "data": {
      "image/png": "[encoded data removed]",
      "text/plain": [
       "<Figure size 1000x800 with 1 Axes>"
      ]
     },
     "metadata": {},
     "output_type": "display_data"
    }
   ],
   "source": [
    "plt.figure(figsize=(10,8))\n",
    "sns.countplot(x='Footedness',hue='Nationality',data=data)\n",
    "plt.title('Footedness vs Nationality')\n",
    "plt.xlabel('Footedness')\n",
    "plt.ylabel('Nationality')\n",
    "plt.show()"
   ]
  },
  {
   "cell_type": "code",
   "execution_count": 40,
   "id": "34acf529",
   "metadata": {},
   "outputs": [],
   "source": [
    "#Statistical Analysis:\n",
    "\n",
    "#Determine which nationality strikers have the highest average number of goals scored.Calculate the average conversion rate for players based on their footedness.\n",
    "\n",
    "#Find whether there is any significant difference in consistency rates among strikers from various nationalities. Before doing the appropriate test, must check for the assumptions.\n",
    "\n",
    "#Check if there is any significant correlation between strikers' Hold-up play and consistency rate. Must check for the assumptions.\n",
    "\n",
    "#Check if strikers' hold-up play significantly influences their consistency rate."
   ]
  },
  {
   "cell_type": "code",
   "execution_count": 51,
   "id": "0e75bb9b",
   "metadata": {},
   "outputs": [
    {
     "data": {
      "text/plain": [
       "Nationality\n",
       "Brazil     15.315789\n",
       "England    13.899083\n",
       "France     14.408602\n",
       "Germany    14.351648\n",
       "Spain      14.687500\n",
       "Name: Goals Scored, dtype: float64"
      ]
     },
     "execution_count": 51,
     "metadata": {},
     "output_type": "execute_result"
    }
   ],
   "source": [
    "Average_goals=data.groupby('Nationality')['Goals Scored'].mean()\n",
    "Average_goals"
   ]
  },
  {
   "cell_type": "code",
   "execution_count": 52,
   "id": "fd974fce",
   "metadata": {},
   "outputs": [
    {
     "data": {
      "text/plain": [
       "Footedness\n",
       "Left-footed     0.198086\n",
       "Right-footed    0.200592\n",
       "Name: Conversion Rate, dtype: float64"
      ]
     },
     "execution_count": 52,
     "metadata": {},
     "output_type": "execute_result"
    }
   ],
   "source": [
    "Average_conversion_rate=data.groupby('Footedness')['Conversion Rate'].mean()\n",
    "Average_conversion_rate"
   ]
  },
  {
   "cell_type": "code",
   "execution_count": 54,
   "id": "1552042c",
   "metadata": {},
   "outputs": [
    {
     "data": {
      "text/plain": [
       "34"
      ]
     },
     "execution_count": 54,
     "metadata": {},
     "output_type": "execute_result"
    }
   ],
   "source": [
    "max=data['Goals Scored'].max()\n",
    "max"
   ]
  },
  {
   "cell_type": "code",
   "execution_count": 63,
   "id": "44c427ef",
   "metadata": {},
   "outputs": [
    {
     "name": "stdout",
     "output_type": "stream",
     "text": [
      "0.001014696305363082\n"
     ]
    }
   ],
   "source": [
    "from scipy.stats import pearsonr\n",
    "consistency_freq=data['Consistency']\n",
    "nationality=data['Hold-up Play']\n",
    "corr,p_value=pearsonr(consistency_freq,nationality)\n",
    "print(p_value)"
   ]
  },
  {
   "cell_type": "code",
   "execution_count": 62,
   "id": "e671c897",
   "metadata": {},
   "outputs": [
    {
     "data": {
      "text/plain": [
       "{'Consistency': 0.451}"
      ]
     },
     "execution_count": 62,
     "metadata": {},
     "output_type": "execute_result"
    }
   ],
   "source": [
    "from scipy.stats import shapiro\n",
    "numeric_column=['Consistency']\n",
    "shapiro_results={}\n",
    "for column in numeric_column:\n",
    "    stat,p_value=shapiro(data['Consistency'])\n",
    "    shapiro_results['Consistency']=round(p_value,3)\n",
    "    \n",
    "shapiro_results"
   ]
  },
  {
   "cell_type": "code",
   "execution_count": null,
   "id": "3ab9a2fa",
   "metadata": {},
   "outputs": [],
   "source": []
  }
 ],
 "metadata": {
  "kernelspec": {
   "display_name": "Python 3 (ipykernel)",
   "language": "python",
   "name": "python3"
  },
  "language_info": {
   "codemirror_mode": {
    "name": "ipython",
    "version": 3
   },
   "file_extension": ".py",
   "mimetype": "text/x-python",
   "name": "python",
   "nbconvert_exporter": "python",
   "pygments_lexer": "ipython3",
   "version": "3.11.3"
  }
 },
 "nbformat": 4,
 "nbformat_minor": 5
}
